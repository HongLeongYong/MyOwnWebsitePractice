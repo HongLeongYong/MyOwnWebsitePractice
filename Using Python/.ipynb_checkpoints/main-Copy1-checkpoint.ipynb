{
 "cells": [
  {
   "cell_type": "code",
   "execution_count": 2,
   "metadata": {},
   "outputs": [],
   "source": [
    "import dominate\n",
    "from dominate.tags import *"
   ]
  },
  {
   "cell_type": "code",
   "execution_count": 7,
   "metadata": {},
   "outputs": [
    {
     "name": "stdout",
     "output_type": "stream",
     "text": [
      "<!DOCTYPE html>\n",
      "<html>\n",
      "  <head>\n",
      "    <title>Example Table</title>\n",
      "    <link href=\"style.css\" rel=\"stylesheet\">\n",
      "  </head>\n",
      "  <body>\n",
      "    <div class=\"container\">\n",
      "      <h1>Hello, World!</h1>\n",
      "    </div>\n",
      "  </body>\n",
      "</html>\n"
     ]
    }
   ],
   "source": [
    "def create_page():\n",
    "    doc = dominate.document(title = 'Example Table')\n",
    "    \n",
    "    with doc.head:\n",
    "        link(rel = 'stylesheet',href = 'style.css')\n",
    "        \n",
    "    with doc:\n",
    "        with div(cls='container'):\n",
    "            h1('Hello, World!')\n",
    "    print(doc)   \n",
    "        \n",
    "        \n",
    "create_page()"
   ]
  }
 ],
 "metadata": {
  "kernelspec": {
   "display_name": "Python 3",
   "language": "python",
   "name": "python3"
  },
  "language_info": {
   "codemirror_mode": {
    "name": "ipython",
    "version": 3
   },
   "file_extension": ".py",
   "mimetype": "text/x-python",
   "name": "python",
   "nbconvert_exporter": "python",
   "pygments_lexer": "ipython3",
   "version": "3.8.5"
  }
 },
 "nbformat": 4,
 "nbformat_minor": 4
}
