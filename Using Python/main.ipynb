{
 "cells": [
  {
   "cell_type": "code",
   "execution_count": 6,
   "metadata": {},
   "outputs": [],
   "source": [
    "import dominate\n",
    "from dominate.tags import *\n",
    "\n",
    "table_headers = ['Column 1','Another One', 'Ehmmmm']\n",
    "\n",
    "def create_page():\n",
    "    doc = dominate.document(title = 'Example Table')\n",
    "    \n",
    "    with doc.head:\n",
    "        link(rel = 'stylesheet',href = 'style.css')\n",
    "        \n",
    "    with doc:\n",
    "        with div(cls='container'):\n",
    "            h1('Hello, World!')\n",
    "            with table(id = 'main', cls = 'table table-striped'):\n",
    "                caption(h3('A table to show data'))\n",
    "                with thead():\n",
    "                    with  tr():\n",
    "                        for table_head in table_headers:\n",
    "                            th(table_head)\n",
    "                with tbody():\n",
    "                    for i in range(10):\n",
    "                        with tr():\n",
    "                            td('Hello')\n",
    "                            td('Another one')\n",
    "                            td('You played yourself')\n",
    "    with open('index.html','w') as file:\n",
    "        file.write(doc.render())\n",
    "        \n",
    "        \n",
    "create_page()"
   ]
  },
  {
   "cell_type": "code",
   "execution_count": null,
   "metadata": {},
   "outputs": [],
   "source": []
  }
 ],
 "metadata": {
  "kernelspec": {
   "display_name": "Python 3",
   "language": "python",
   "name": "python3"
  },
  "language_info": {
   "codemirror_mode": {
    "name": "ipython",
    "version": 3
   },
   "file_extension": ".py",
   "mimetype": "text/x-python",
   "name": "python",
   "nbconvert_exporter": "python",
   "pygments_lexer": "ipython3",
   "version": "3.8.5"
  }
 },
 "nbformat": 4,
 "nbformat_minor": 4
}
